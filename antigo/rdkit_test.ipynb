{
 "cells": [
  {
   "cell_type": "code",
   "execution_count": 5,
   "metadata": {},
   "outputs": [
    {
     "name": "stdout",
     "output_type": "stream",
     "text": [
      "Requirement already satisfied: rdkit in /mnt/hd/Repos/Github/smiles/venv/lib/python3.10/site-packages (2024.3.6)\n",
      "Requirement already satisfied: ply in /mnt/hd/Repos/Github/smiles/venv/lib/python3.10/site-packages (3.11)\n",
      "Requirement already satisfied: Pillow in /mnt/hd/Repos/Github/smiles/venv/lib/python3.10/site-packages (from rdkit) (11.0.0)\n",
      "Requirement already satisfied: numpy in /mnt/hd/Repos/Github/smiles/venv/lib/python3.10/site-packages (from rdkit) (2.1.3)\n",
      "Note: you may need to restart the kernel to use updated packages.\n"
     ]
    }
   ],
   "source": [
    "%pip install rdkit ply\n",
    "from rdkit import Chem"
   ]
  },
  {
   "cell_type": "code",
   "execution_count": 6,
   "metadata": {},
   "outputs": [
    {
     "name": "stderr",
     "output_type": "stream",
     "text": [
      "[20:06:58] SMILES Parse Error: syntax error while parsing: H2C=C\n",
      "[20:06:58] SMILES Parse Error: Failed parsing SMILES 'H2C=C' for input: 'H2C=C'\n"
     ]
    }
   ],
   "source": [
    "Chem.MolFromSmiles('H2C=C')"
   ]
  },
  {
   "cell_type": "code",
   "execution_count": 51,
   "metadata": {},
   "outputs": [
    {
     "name": "stderr",
     "output_type": "stream",
     "text": [
      "[22:53:10] SMILES Parse Error: unclosed ring for input: 'C1%12%24'\n"
     ]
    }
   ],
   "source": [
    "Chem.MolFromSmiles('C1%12%24')"
   ]
  },
  {
   "cell_type": "code",
   "execution_count": 8,
   "metadata": {},
   "outputs": [],
   "source": [
    "def valida_molecula(molecula:str) -> bool:\n",
    "\n",
    "    mol = Chem.MolFromSmiles(molecula)\n",
    "    if mol:\n",
    "        return True\n",
    "    \n",
    "    return False"
   ]
  },
  {
   "cell_type": "code",
   "execution_count": 9,
   "metadata": {},
   "outputs": [
    {
     "data": {
      "text/plain": [
       "True"
      ]
     },
     "execution_count": 9,
     "metadata": {},
     "output_type": "execute_result"
    }
   ],
   "source": [
    "valida_molecula('Cc1ccccc1')"
   ]
  },
  {
   "cell_type": "code",
   "execution_count": 13,
   "metadata": {},
   "outputs": [
    {
     "data": {
      "text/plain": [
       "True"
      ]
     },
     "execution_count": 13,
     "metadata": {},
     "output_type": "execute_result"
    }
   ],
   "source": [
    "valida_molecula('H2C=C')"
   ]
  },
  {
   "cell_type": "code",
   "execution_count": 3,
   "metadata": {},
   "outputs": [],
   "source": [
    "from rdkit.Chem import GetPeriodicTable\n",
    "\n",
    "def simbolos_tabela_periodica() -> list[str]:\n",
    "    tabela_periodica = GetPeriodicTable()\n",
    "    simbolos = {}\n",
    "    n_tabela_periodica = 118 # numero de elementos da tabela periodica\n",
    "    for i in range(1, n_tabela_periodica+1):\n",
    "        simbolo = tabela_periodica.GetElementSymbol(i)\n",
    "        simbolos[simbolo] = {\n",
    "            'valencia': list(tabela_periodica.GetValenceList(i)),\n",
    "            'numero_atomico': i\n",
    "        }\n",
    "    \n",
    "    return simbolos\n"
   ]
  },
  {
   "cell_type": "code",
   "execution_count": 4,
   "metadata": {},
   "outputs": [
    {
     "data": {
      "text/plain": [
       "{'H': {'valencia': [1], 'numero_atomico': 1},\n",
       " 'He': {'valencia': [0], 'numero_atomico': 2},\n",
       " 'Li': {'valencia': [1, -1], 'numero_atomico': 3},\n",
       " 'Be': {'valencia': [2], 'numero_atomico': 4},\n",
       " 'B': {'valencia': [3], 'numero_atomico': 5},\n",
       " 'C': {'valencia': [4], 'numero_atomico': 6},\n",
       " 'N': {'valencia': [3], 'numero_atomico': 7},\n",
       " 'O': {'valencia': [2], 'numero_atomico': 8},\n",
       " 'F': {'valencia': [1], 'numero_atomico': 9},\n",
       " 'Ne': {'valencia': [0], 'numero_atomico': 10},\n",
       " 'Na': {'valencia': [1, -1], 'numero_atomico': 11},\n",
       " 'Mg': {'valencia': [2, -1], 'numero_atomico': 12},\n",
       " 'Al': {'valencia': [3, 6], 'numero_atomico': 13},\n",
       " 'Si': {'valencia': [4, 6], 'numero_atomico': 14},\n",
       " 'P': {'valencia': [3, 5, 7], 'numero_atomico': 15},\n",
       " 'S': {'valencia': [2, 4, 6], 'numero_atomico': 16},\n",
       " 'Cl': {'valencia': [1], 'numero_atomico': 17},\n",
       " 'Ar': {'valencia': [0], 'numero_atomico': 18},\n",
       " 'K': {'valencia': [1, -1], 'numero_atomico': 19},\n",
       " 'Ca': {'valencia': [2, -1], 'numero_atomico': 20},\n",
       " 'Sc': {'valencia': [-1], 'numero_atomico': 21},\n",
       " 'Ti': {'valencia': [-1], 'numero_atomico': 22},\n",
       " 'V': {'valencia': [-1], 'numero_atomico': 23},\n",
       " 'Cr': {'valencia': [-1], 'numero_atomico': 24},\n",
       " 'Mn': {'valencia': [-1], 'numero_atomico': 25},\n",
       " 'Fe': {'valencia': [-1], 'numero_atomico': 26},\n",
       " 'Co': {'valencia': [-1], 'numero_atomico': 27},\n",
       " 'Ni': {'valencia': [-1], 'numero_atomico': 28},\n",
       " 'Cu': {'valencia': [-1], 'numero_atomico': 29},\n",
       " 'Zn': {'valencia': [-1], 'numero_atomico': 30},\n",
       " 'Ga': {'valencia': [3], 'numero_atomico': 31},\n",
       " 'Ge': {'valencia': [4], 'numero_atomico': 32},\n",
       " 'As': {'valencia': [3, 5, 7], 'numero_atomico': 33},\n",
       " 'Se': {'valencia': [2, 4, 6], 'numero_atomico': 34},\n",
       " 'Br': {'valencia': [1], 'numero_atomico': 35},\n",
       " 'Kr': {'valencia': [0], 'numero_atomico': 36},\n",
       " 'Rb': {'valencia': [1], 'numero_atomico': 37},\n",
       " 'Sr': {'valencia': [2, -1], 'numero_atomico': 38},\n",
       " 'Y': {'valencia': [-1], 'numero_atomico': 39},\n",
       " 'Zr': {'valencia': [-1], 'numero_atomico': 40},\n",
       " 'Nb': {'valencia': [-1], 'numero_atomico': 41},\n",
       " 'Mo': {'valencia': [-1], 'numero_atomico': 42},\n",
       " 'Tc': {'valencia': [-1], 'numero_atomico': 43},\n",
       " 'Ru': {'valencia': [-1], 'numero_atomico': 44},\n",
       " 'Rh': {'valencia': [-1], 'numero_atomico': 45},\n",
       " 'Pd': {'valencia': [-1], 'numero_atomico': 46},\n",
       " 'Ag': {'valencia': [-1], 'numero_atomico': 47},\n",
       " 'Cd': {'valencia': [-1], 'numero_atomico': 48},\n",
       " 'In': {'valencia': [3], 'numero_atomico': 49},\n",
       " 'Sn': {'valencia': [2, 4], 'numero_atomico': 50},\n",
       " 'Sb': {'valencia': [3, 5, 7], 'numero_atomico': 51},\n",
       " 'Te': {'valencia': [2, 4, 6], 'numero_atomico': 52},\n",
       " 'I': {'valencia': [1, 3, 5], 'numero_atomico': 53},\n",
       " 'Xe': {'valencia': [0, 2, 4, 6], 'numero_atomico': 54},\n",
       " 'Cs': {'valencia': [1], 'numero_atomico': 55},\n",
       " 'Ba': {'valencia': [2, -1], 'numero_atomico': 56},\n",
       " 'La': {'valencia': [-1], 'numero_atomico': 57},\n",
       " 'Ce': {'valencia': [-1], 'numero_atomico': 58},\n",
       " 'Pr': {'valencia': [-1], 'numero_atomico': 59},\n",
       " 'Nd': {'valencia': [-1], 'numero_atomico': 60},\n",
       " 'Pm': {'valencia': [-1], 'numero_atomico': 61},\n",
       " 'Sm': {'valencia': [-1], 'numero_atomico': 62},\n",
       " 'Eu': {'valencia': [-1], 'numero_atomico': 63},\n",
       " 'Gd': {'valencia': [-1], 'numero_atomico': 64},\n",
       " 'Tb': {'valencia': [-1], 'numero_atomico': 65},\n",
       " 'Dy': {'valencia': [-1], 'numero_atomico': 66},\n",
       " 'Ho': {'valencia': [-1], 'numero_atomico': 67},\n",
       " 'Er': {'valencia': [-1], 'numero_atomico': 68},\n",
       " 'Tm': {'valencia': [-1], 'numero_atomico': 69},\n",
       " 'Yb': {'valencia': [-1], 'numero_atomico': 70},\n",
       " 'Lu': {'valencia': [-1], 'numero_atomico': 71},\n",
       " 'Hf': {'valencia': [-1], 'numero_atomico': 72},\n",
       " 'Ta': {'valencia': [-1], 'numero_atomico': 73},\n",
       " 'W': {'valencia': [-1], 'numero_atomico': 74},\n",
       " 'Re': {'valencia': [-1], 'numero_atomico': 75},\n",
       " 'Os': {'valencia': [-1], 'numero_atomico': 76},\n",
       " 'Ir': {'valencia': [-1], 'numero_atomico': 77},\n",
       " 'Pt': {'valencia': [-1], 'numero_atomico': 78},\n",
       " 'Au': {'valencia': [-1], 'numero_atomico': 79},\n",
       " 'Hg': {'valencia': [-1], 'numero_atomico': 80},\n",
       " 'Tl': {'valencia': [-1], 'numero_atomico': 81},\n",
       " 'Pb': {'valencia': [2, 4], 'numero_atomico': 82},\n",
       " 'Bi': {'valencia': [3, 5, 7], 'numero_atomico': 83},\n",
       " 'Po': {'valencia': [2, 4, 6], 'numero_atomico': 84},\n",
       " 'At': {'valencia': [1, 3, 5], 'numero_atomico': 85},\n",
       " 'Rn': {'valencia': [0], 'numero_atomico': 86},\n",
       " 'Fr': {'valencia': [1], 'numero_atomico': 87},\n",
       " 'Ra': {'valencia': [2, -1], 'numero_atomico': 88},\n",
       " 'Ac': {'valencia': [-1], 'numero_atomico': 89},\n",
       " 'Th': {'valencia': [-1], 'numero_atomico': 90},\n",
       " 'Pa': {'valencia': [-1], 'numero_atomico': 91},\n",
       " 'U': {'valencia': [-1], 'numero_atomico': 92},\n",
       " 'Np': {'valencia': [-1], 'numero_atomico': 93},\n",
       " 'Pu': {'valencia': [-1], 'numero_atomico': 94},\n",
       " 'Am': {'valencia': [-1], 'numero_atomico': 95},\n",
       " 'Cm': {'valencia': [-1], 'numero_atomico': 96},\n",
       " 'Bk': {'valencia': [-1], 'numero_atomico': 97},\n",
       " 'Cf': {'valencia': [-1], 'numero_atomico': 98},\n",
       " 'Es': {'valencia': [-1], 'numero_atomico': 99},\n",
       " 'Fm': {'valencia': [-1], 'numero_atomico': 100},\n",
       " 'Md': {'valencia': [-1], 'numero_atomico': 101},\n",
       " 'No': {'valencia': [-1], 'numero_atomico': 102},\n",
       " 'Lr': {'valencia': [-1], 'numero_atomico': 103},\n",
       " 'Rf': {'valencia': [-1], 'numero_atomico': 104},\n",
       " 'Db': {'valencia': [-1], 'numero_atomico': 105},\n",
       " 'Sg': {'valencia': [-1], 'numero_atomico': 106},\n",
       " 'Bh': {'valencia': [-1], 'numero_atomico': 107},\n",
       " 'Hs': {'valencia': [-1], 'numero_atomico': 108},\n",
       " 'Mt': {'valencia': [-1], 'numero_atomico': 109},\n",
       " 'Ds': {'valencia': [-1], 'numero_atomico': 110},\n",
       " 'Rg': {'valencia': [-1], 'numero_atomico': 111},\n",
       " 'Cn': {'valencia': [-1], 'numero_atomico': 112},\n",
       " 'Nh': {'valencia': [-1], 'numero_atomico': 113},\n",
       " 'Fl': {'valencia': [-1], 'numero_atomico': 114},\n",
       " 'Mc': {'valencia': [-1], 'numero_atomico': 115},\n",
       " 'Lv': {'valencia': [-1], 'numero_atomico': 116},\n",
       " 'Ts': {'valencia': [-1], 'numero_atomico': 117},\n",
       " 'Og': {'valencia': [-1], 'numero_atomico': 118}}"
      ]
     },
     "execution_count": 4,
     "metadata": {},
     "output_type": "execute_result"
    }
   ],
   "source": [
    "simbolos_tabela_periodica()"
   ]
  }
 ],
 "metadata": {
  "kernelspec": {
   "display_name": "venv",
   "language": "python",
   "name": "python3"
  },
  "language_info": {
   "codemirror_mode": {
    "name": "ipython",
    "version": 3
   },
   "file_extension": ".py",
   "mimetype": "text/x-python",
   "name": "python",
   "nbconvert_exporter": "python",
   "pygments_lexer": "ipython3",
   "version": "3.10.12"
  }
 },
 "nbformat": 4,
 "nbformat_minor": 2
}
